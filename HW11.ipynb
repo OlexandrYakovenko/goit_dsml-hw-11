{
  "cells": [
    {
      "cell_type": "markdown",
      "metadata": {
        "id": "b0Yf4NBJUSNM"
      },
      "source": [
        "# Створення нейронної мережі\n",
        "\n",
        "У цьому завданні ми створимо повнозв'язну нейронну мережу, використовуючи при цьому низькорівневі механізми tensorflow.\n",
        "\n",
        "Архітектура нейромережі представлена на наступному малюнку. Як бачиш, у ній є один вхідний шар, два приховані, а також вихідний шар. В якості активаційної функції у прихованих шарах буде використовуватись сигмоїда. На вихідному шарі ми використовуємо softmax.\n",
        "\n",
        "Частина коду зі створення мережі вже написана, тобі потрібно заповнити пропуски у вказаних місцях."
      ]
    },
    {
      "cell_type": "markdown",
      "metadata": {
        "id": "01rZWUu0USNQ"
      },
      "source": [
        "## Архітектура нейронної мережі\n",
        "\n",
        "<img src=\"http://cs231n.github.io/assets/nn1/neural_net2.jpeg\" alt=\"nn\" style=\"width: 400px;\"/>\n"
      ]
    },
    {
      "cell_type": "markdown",
      "metadata": {
        "id": "LLvIZ705Qw_V"
      },
      "source": [
        "## Про датасет MNIST\n",
        "\n",
        "Дану нейромережу ми будемо вивчати на датасеті MNIST. Цей датасет являє собою велику кількість зображень рукописних цифр розміром $28 \\times 28$ пікселів. Кожен піксель приймає значення від 0 до 255.\n",
        "\n",
        "Як і раніше, датасет буде розділений на навчальну та тестову вибірки. При цьому ми виконаємо нормалізацію всіх зображень, щоб значення пікселів знаходилось у проміжку від 0 до 1, розділивши яскравість кожного пікселя на 255.\n",
        "\n",
        "Окрім того, архітектура нейронної мережі очікує на вхід вектор. У нашому ж випадку кожен об'єкт вибірки являє собою матрицю. Що ж робити? У цьому завданні ми \"розтягнемо\" матрицю $28 \\times 28$, отримавши при цьому вектор, що складається з 784 елементів.\n",
        "\n",
        "![MNIST Dataset](https://www.researchgate.net/profile/Steven-Young-5/publication/306056875/figure/fig1/AS:393921575309346@1470929630835/Example-images-from-the-MNIST-dataset.png)\n",
        "\n",
        "Більше інформації про датасет можна знайти [тут](http://yann.lecun.com/exdb/mnist/)."
      ]
    },
    {
      "cell_type": "code",
      "execution_count": 12,
      "metadata": {
        "id": "il_0_5OyUSNR"
      },
      "outputs": [],
      "source": [
        "import tensorflow as tf\n",
        "import numpy as np\n",
        "import pandas as pd\n",
        "import matplotlib.pyplot as plt\n",
        "import random\n",
        "import keras as K\n",
        "import seaborn as sns\n",
        "from sklearn.metrics import confusion_matrix, classification_report"
      ]
    },
    {
      "cell_type": "code",
      "execution_count": 2,
      "metadata": {
        "id": "cd-1_abTUSNS"
      },
      "outputs": [],
      "source": [
        "num_classes = 10 # загальна кількість класів, у нашому випадку це цифри від 0 до 9\n",
        "num_features = 784 # кількість атрибутів вхідного вектора 28 * 28 = 784\n",
        "\n",
        "learning_rate = 0.001 # швидкість навчання нейронної мережі\n",
        "training_steps = 3000 # максимальне число епох\n",
        "batch_size = 256 # перераховувати ваги мережі ми будемо не на всій вибірці, а на її випадковій підмножині з batch_size елементів\n",
        "display_step = 100 # кожні 100 ітерацій ми будемо показувати поточне значення функції втрат і точності\n",
        "\n",
        "n_hidden_1 = 128 # кількість нейронів 1-го шару\n",
        "n_hidden_2 = 256 # кількість нейронів 2-го шару"
      ]
    },
    {
      "cell_type": "code",
      "execution_count": 3,
      "metadata": {
        "colab": {
          "base_uri": "https://localhost:8080/"
        },
        "id": "pGTXiRyTUSNT",
        "outputId": "1e10acc0-3d9e-491c-9cc5-4695438b8169"
      },
      "outputs": [
        {
          "output_type": "stream",
          "name": "stdout",
          "text": [
            "Downloading data from https://storage.googleapis.com/tensorflow/tf-keras-datasets/mnist.npz\n",
            "11490434/11490434 [==============================] - 0s 0us/step\n"
          ]
        }
      ],
      "source": [
        "# from tensorflow.keras.datasets import mnist\n",
        "from keras.datasets import mnist\n",
        "\n",
        "# Завантажуємо датасет\n",
        "(x_train, y_train), (x_test, y_test) = mnist.load_data()\n",
        "\n",
        "# Перетворюємо цілочисельні пікселі на тип float32\n",
        "x_train, x_test = np.array(x_train, np.float32), np.array(x_test, np.float32)\n",
        "\n",
        "# Перетворюємо матриці розміром 28x28 пікселів у вектор з 784 елементів\n",
        "x_train, x_test = x_train.reshape([-1, num_features]), x_test.reshape([-1, num_features])\n",
        "\n",
        "# Нормалізуємо значення пікселів\n",
        "x_train, x_test = x_train / 255., x_test / 255.\n",
        "\n",
        "# Перемішаємо тренувальні дані\n",
        "train_data = tf.data.Dataset.from_tensor_slices((x_train, y_train))\n",
        "train_data = train_data.repeat().shuffle(5000).batch(batch_size).prefetch(1)"
      ]
    },
    {
      "cell_type": "code",
      "execution_count": 4,
      "metadata": {
        "id": "FkRmCQjnUSNV"
      },
      "outputs": [],
      "source": [
        "# Створимо нейронну мережу\n",
        "\n",
        "class DenseLayer(tf.Module):\n",
        "    def __init__(self, in_features, out_features, name=None):\n",
        "        super().__init__(name=name)\n",
        "        self.w = tf.Variable(\n",
        "            tf.random.normal([in_features, out_features]), name=\"w\"\n",
        "        )\n",
        "        self.b = tf.Variable(tf.zeros([out_features]), name=\"b\")\n",
        "\n",
        "    def __call__(self, x, activation=0):\n",
        "        y = tf.matmul(x, self.w) + self.b\n",
        "        # if activation != 0:\n",
        "        #     return tf.nn.softmax(y)\n",
        "        # else:\n",
        "        #     return tf.nn.sigmoid(y)\n",
        "        if activation == 'sigmoid':\n",
        "            return tf.nn.sigmoid(y)\n",
        "        elif activation == 'softmax':\n",
        "            return tf.nn.softmax(y)\n",
        "        else:\n",
        "            return y\n",
        "\n",
        "class NN(tf.Module):\n",
        "  def __init__(self, name=None):\n",
        "    super().__init__(name=name)\n",
        "    # Перший шар, який складається з 128 нейронів\n",
        "    self.dense1 = DenseLayer(num_features, n_hidden_1)\n",
        "    # Другий шар, який складається з 256 нейронів\n",
        "    self.dense2 = DenseLayer(n_hidden_1, n_hidden_2)\n",
        "    # Вихідний шар\n",
        "    self.out_layer = DenseLayer(n_hidden_2, num_classes)\n",
        "\n",
        "\n",
        "  def __call__(self, x):\n",
        "    # Передача даних через перші два шари та вихідний шар з функцією активації softmax\n",
        "    x = self.dense1(x, activation='sigmoid')\n",
        "    x = self.dense2(x, activation='sigmoid')\n",
        "    x = self.out_layer(x, activation='softmax')\n",
        "    return x"
      ]
    },
    {
      "cell_type": "code",
      "execution_count": 5,
      "metadata": {
        "id": "LIf3o7VAUSNV"
      },
      "outputs": [],
      "source": [
        "# В якості функції помилки в даному випадку зручно взяти крос-ентропію\n",
        "def cross_entropy(y_pred, y_true):\n",
        "    # Закодувати label в one hot vector\n",
        "    y_true = tf.one_hot(y_true, depth=num_classes)\n",
        "\n",
        "    # Значення передбачення, щоб уникнути помилки log(0).\n",
        "    y_pred = tf.clip_by_value(y_pred, 1e-9, 1.)\n",
        "\n",
        "    # Обчислення крос-ентропії\n",
        "    # return tf.reduce_mean(-tf.reduce_sum(y_true * tf.math.log(y_pred)))\n",
        "    return tf.reduce_mean(-tf.reduce_sum(y_true * tf.math.log(y_pred), axis=1))\n",
        "\n",
        "# Як метрику якості використовуємо точність\n",
        "def accuracy(y_pred, y_true):\n",
        "    # Порівнюємо передбачення та істинні значення\n",
        "    correct_prediction = tf.equal(tf.argmax(y_pred, 1), tf.cast(y_true, tf.int64))\n",
        "    return tf.reduce_mean(tf.cast(correct_prediction, tf.float32))"
      ]
    },
    {
      "cell_type": "code",
      "execution_count": 6,
      "metadata": {
        "id": "MQeT1yatUSNW"
      },
      "outputs": [],
      "source": [
        "# Створимо екземпляр нейронної мережі\n",
        "neural_net = NN(name=\"mnist\")\n",
        "\n",
        "# Функція навчання нейромережі\n",
        "def train(neural_net, input_x, output_y):\n",
        "  # Для налаштування вагів мережі будемо використовувати стохастичний градієнтний спуск\n",
        "  optimizer = tf.optimizers.SGD(learning_rate)\n",
        "\n",
        "  # Активація автоматичного диференціювання\n",
        "  with tf.GradientTape() as g:\n",
        "    pred = neural_net(input_x)\n",
        "    loss = cross_entropy(pred, output_y)\n",
        "\n",
        "    # Отримаємо список оптимізованих параметрів\n",
        "    trainable_variables = [neural_net.dense1.w, neural_net.dense1.b,\n",
        "                               neural_net.dense2.w, neural_net.dense2.b,\n",
        "                               neural_net.out_layer.w, neural_net.out_layer.b]\n",
        "\n",
        "    # Обчислимо за ними значення градієнта\n",
        "    gradients = g.gradient(loss, trainable_variables)\n",
        "\n",
        "    # Модифікуємо параметри\n",
        "    optimizer.apply_gradients(zip(gradients, trainable_variables))"
      ]
    },
    {
      "cell_type": "code",
      "execution_count": 7,
      "metadata": {
        "id": "fnyns9lBfpQZ",
        "colab": {
          "base_uri": "https://localhost:8080/"
        },
        "outputId": "12a56fc8-16bb-4297-f8a3-ee9e55560875"
      },
      "outputs": [
        {
          "output_type": "stream",
          "name": "stdout",
          "text": [
            "Step: 100, Loss: 10.8082, Accuracy: 0.1172\n",
            "Step: 200, Loss: 10.3471, Accuracy: 0.0898\n",
            "Step: 300, Loss: 8.4364, Accuracy: 0.1250\n",
            "Step: 400, Loss: 8.3482, Accuracy: 0.1055\n",
            "Step: 500, Loss: 7.6024, Accuracy: 0.1250\n",
            "Step: 600, Loss: 6.8341, Accuracy: 0.1211\n",
            "Step: 700, Loss: 6.1565, Accuracy: 0.1445\n",
            "Step: 800, Loss: 6.2011, Accuracy: 0.1328\n",
            "Step: 900, Loss: 6.1645, Accuracy: 0.1172\n",
            "Step: 1000, Loss: 6.1927, Accuracy: 0.1562\n",
            "Step: 1100, Loss: 6.1497, Accuracy: 0.1406\n",
            "Step: 1200, Loss: 5.9439, Accuracy: 0.1484\n",
            "Step: 1300, Loss: 5.3073, Accuracy: 0.1719\n",
            "Step: 1400, Loss: 5.0634, Accuracy: 0.1875\n",
            "Step: 1500, Loss: 5.5148, Accuracy: 0.1523\n",
            "Step: 1600, Loss: 5.3383, Accuracy: 0.1875\n",
            "Step: 1700, Loss: 5.0516, Accuracy: 0.1680\n",
            "Step: 1800, Loss: 5.0148, Accuracy: 0.1992\n",
            "Step: 1900, Loss: 5.1200, Accuracy: 0.1914\n",
            "Step: 2000, Loss: 4.9163, Accuracy: 0.2188\n",
            "Step: 2100, Loss: 4.6386, Accuracy: 0.2539\n",
            "Step: 2200, Loss: 4.6648, Accuracy: 0.2383\n",
            "Step: 2300, Loss: 4.4268, Accuracy: 0.2461\n",
            "Step: 2400, Loss: 4.6428, Accuracy: 0.2305\n",
            "Step: 2500, Loss: 4.7410, Accuracy: 0.2344\n",
            "Step: 2600, Loss: 4.7386, Accuracy: 0.2539\n",
            "Step: 2700, Loss: 4.9113, Accuracy: 0.1992\n",
            "Step: 2800, Loss: 4.0713, Accuracy: 0.3125\n",
            "Step: 2900, Loss: 3.8142, Accuracy: 0.3125\n",
            "Step: 3000, Loss: 3.7265, Accuracy: 0.2969\n"
          ]
        }
      ],
      "source": [
        "# Тренування мережі\n",
        "\n",
        "loss_history = []  # кожні display_step кроків зберігай в цьому списку поточну помилку нейромережі\n",
        "accuracy_history = [] # кожні display_step кроків зберігай в цьому списку поточну точність нейромережі\n",
        "\n",
        "# У цьому циклі ми будемо проводити навчання нейронної мережі\n",
        "# із тренувального датасета train_data вилучи випадкову підмножину, на якій\n",
        "# відбудеться тренування. Використовуй метод take, доступний для тренувального датасета.\n",
        "for step, (batch_x, batch_y) in enumerate(train_data.take(training_steps), 1):\n",
        "    # Оновлюємо ваги нейронної мережі\n",
        "    train(neural_net, batch_x, batch_y)\n",
        "\n",
        "    if step % display_step == 0:\n",
        "        pred = neural_net(batch_x)\n",
        "        loss = cross_entropy(pred, batch_y)\n",
        "        acc = accuracy(pred, batch_y)\n",
        "        loss_history.append(loss)\n",
        "        accuracy_history.append(acc)\n",
        "        print(f\"Step: {step}, Loss: {loss:.4f}, Accuracy: {acc:.4f}\")\n"
      ]
    },
    {
      "cell_type": "code",
      "execution_count": 8,
      "metadata": {
        "id": "_yCBfG6MbQB2",
        "colab": {
          "base_uri": "https://localhost:8080/",
          "height": 927
        },
        "outputId": "075f7394-f4b0-4c5c-86a4-301576c28ec6"
      },
      "outputs": [
        {
          "output_type": "display_data",
          "data": {
            "text/plain": [
              "<Figure size 640x480 with 1 Axes>"
            ],
            "image/png": "[encoded data removed]"
          },
          "metadata": {}
        },
        {
          "output_type": "display_data",
          "data": {
            "text/plain": [
              "<Figure size 640x480 with 1 Axes>"
            ],
            "image/png": "[encoded data removed]"
          },
          "metadata": {}
        }
      ],
      "source": [
        "# Виведіть графіки залежності зміни точності і втрат від кроку\n",
        "# Якщо все зроблено правильно, то точність повинна зростати, а втрати зменшуватись\n",
        "\n",
        "import matplotlib.pyplot as plt\n",
        "\n",
        "# Виведіть графік функції втрат\n",
        "plt.plot(range(display_step, training_steps + 1, display_step), loss_history)\n",
        "plt.xlabel('Step')\n",
        "plt.ylabel('Loss')\n",
        "plt.title('Loss over steps')\n",
        "plt.show()\n",
        "\n",
        "# Виведіть графік точності\n",
        "plt.plot(range(display_step, training_steps + 1, display_step), accuracy_history)\n",
        "plt.xlabel('Step')\n",
        "plt.ylabel('Accuracy')\n",
        "plt.title('Accuracy over steps')\n",
        "plt.show()\n"
      ]
    },
    {
      "cell_type": "code",
      "execution_count": 16,
      "metadata": {
        "id": "LE3g4gDyUSNY",
        "colab": {
          "base_uri": "https://localhost:8080/"
        },
        "outputId": "3cda50d2-7ab5-4157-a2a2-2232b07c3b67"
      },
      "outputs": [
        {
          "output_type": "stream",
          "name": "stdout",
          "text": [
            "Test Accuracy: 0.2731\n"
          ]
        }
      ],
      "source": [
        "# Обчисліть точність навченої нейромережі\n",
        "# Місце для вашого коду\n",
        "# Тестування моделі на тестових даних\n",
        "test_data = tf.data.Dataset.from_tensor_slices((x_test, y_test)).batch(batch_size)\n",
        "test_acc = []\n",
        "for batch_x, batch_y in test_data:\n",
        "    pred = neural_net(batch_x)\n",
        "    acc = accuracy(pred, batch_y)\n",
        "    test_acc.append(acc)\n",
        "print(f\"Test Accuracy: {np.mean(test_acc):.4f}\")"
      ]
    },
    {
      "cell_type": "code",
      "execution_count": 17,
      "metadata": {
        "id": "_EEHAubOUSNY",
        "colab": {
          "base_uri": "https://localhost:8080/",
          "height": 346
        },
        "outputId": "00dd1481-a1f4-44ab-a24e-0b05176eaaf7"
      },
      "outputs": [
        {
          "output_type": "display_data",
          "data": {
            "text/plain": [
              "<Figure size 640x480 with 10 Axes>"
            ],
            "image/png": "[encoded data removed]"
          },
          "metadata": {}
        }
      ],
      "source": [
        "# Протестуйте навчену нейромережу на 10 зображеннях. З тестової вибірки візьміть 5\n",
        "# випадкових зображень і передайте їх у нейронну мережу.\n",
        "# Виведіть зображення та випишіть  поруч відповідь нейромережі.\n",
        "# Зробіть висновок про те, чи помиляється твоя нейронна мережа, і якщо так, то як часто?\n",
        "\n",
        "num_images = 10\n",
        "test_images = random.sample(list(zip(x_test, y_test)), num_images)\n",
        "for i, (image, label) in enumerate(test_images):\n",
        "    image = image.reshape(1, -1)\n",
        "    pred = neural_net(image)\n",
        "    pred_label = tf.argmax(pred, axis=1).numpy()[0]\n",
        "    plt.subplot(2, 5, i+1)\n",
        "    plt.imshow(image.reshape(28, 28), cmap='gray')\n",
        "    plt.title(f\"T: {label}, P: {pred_label}\")\n",
        "    plt.axis('off')\n",
        "plt.show()\n",
        "\n",
        "\n"
      ]
    },
    {
      "cell_type": "code",
      "source": [
        "# Отримати передбачення для всіх тестових даних\n",
        "y_pred = []\n",
        "y_true = []\n",
        "\n",
        "for batch_x, batch_y in test_data:\n",
        "    pred = neural_net(batch_x)\n",
        "    y_pred.extend(tf.argmax(pred, axis=1).numpy())\n",
        "    y_true.extend(batch_y.numpy())\n",
        "\n",
        "# Використати classification_report для створення звіту\n",
        "report = classification_report(y_true, y_pred, target_names=[str(i) for i in range(num_classes)])\n",
        "print(report)"
      ],
      "metadata": {
        "colab": {
          "base_uri": "https://localhost:8080/"
        },
        "id": "mZIbrlxZcXx1",
        "outputId": "7928a326-a187-47f9-964d-4f2cb8f395df"
      },
      "execution_count": 21,
      "outputs": [
        {
          "output_type": "stream",
          "name": "stdout",
          "text": [
            "              precision    recall  f1-score   support\n",
            "\n",
            "           0       0.31      0.32      0.31       980\n",
            "           1       0.61      0.59      0.60      1135\n",
            "           2       0.24      0.23      0.23      1032\n",
            "           3       0.25      0.26      0.25      1010\n",
            "           4       0.19      0.18      0.19       982\n",
            "           5       0.09      0.09      0.09       892\n",
            "           6       0.15      0.14      0.14       958\n",
            "           7       0.28      0.30      0.29      1028\n",
            "           8       0.24      0.24      0.24       974\n",
            "           9       0.29      0.31      0.30      1009\n",
            "\n",
            "    accuracy                           0.27     10000\n",
            "   macro avg       0.26      0.27      0.26     10000\n",
            "weighted avg       0.27      0.27      0.27     10000\n",
            "\n"
          ]
        }
      ]
    },
    {
      "cell_type": "code",
      "source": [
        "import pandas as pd\n",
        "from sklearn.metrics import classification_report\n",
        "from tabulate import tabulate\n",
        "\n",
        "# Генеруємо classification report\n",
        "report_dict = classification_report(y_true, y_pred, output_dict=True)\n",
        "\n",
        "# Перетворюємо report на DataFrame\n",
        "report_df = pd.DataFrame(report_dict).transpose()\n",
        "\n",
        "# Округлюємо показники до двох знаків\n",
        "report_df = report_df.round(2)\n",
        "\n",
        "# Виведення таблиці у красивому форматі\n",
        "print(tabulate(report_df, headers='keys', tablefmt='pretty'))"
      ],
      "metadata": {
        "colab": {
          "base_uri": "https://localhost:8080/"
        },
        "id": "-zF0gA2kq0rB",
        "outputId": "572673e7-cca3-4a41-b7d0-8f95563ee426"
      },
      "execution_count": 24,
      "outputs": [
        {
          "output_type": "stream",
          "name": "stdout",
          "text": [
            "+--------------+-----------+--------+----------+---------+\n",
            "|              | precision | recall | f1-score | support |\n",
            "+--------------+-----------+--------+----------+---------+\n",
            "|      0       |   0.31    |  0.32  |   0.31   |  980.0  |\n",
            "|      1       |   0.61    |  0.59  |   0.6    | 1135.0  |\n",
            "|      2       |   0.24    |  0.23  |   0.23   | 1032.0  |\n",
            "|      3       |   0.25    |  0.26  |   0.25   | 1010.0  |\n",
            "|      4       |   0.19    |  0.18  |   0.19   |  982.0  |\n",
            "|      5       |   0.09    |  0.09  |   0.09   |  892.0  |\n",
            "|      6       |   0.15    |  0.14  |   0.14   |  958.0  |\n",
            "|      7       |   0.28    |  0.3   |   0.29   | 1028.0  |\n",
            "|      8       |   0.24    |  0.24  |   0.24   |  974.0  |\n",
            "|      9       |   0.29    |  0.31  |   0.3    | 1009.0  |\n",
            "|   accuracy   |   0.27    |  0.27  |   0.27   |  0.27   |\n",
            "|  macro avg   |   0.26    |  0.27  |   0.26   | 10000.0 |\n",
            "| weighted avg |   0.27    |  0.27  |   0.27   | 10000.0 |\n",
            "+--------------+-----------+--------+----------+---------+\n"
          ]
        }
      ]
    },
    {
      "cell_type": "markdown",
      "source": [
        "Виходячи з наданих метрик якості роботи нейронної мережі, можна зробити наступні висновки:\n",
        "\n",
        "1. **Низька загальна точність**:\n",
        "   - Загальна точність моделі становить 27%, що є досить низьким показником для класифікації цифр MNIST. Це означає, що модель правильно класифікує лише 27% всіх тестових зразків.\n",
        "\n",
        "2. **Низька точність (precision)**:\n",
        "   - Precision для різних класів коливається від 0.09 (для цифри 5) до 0.61 (для цифри 1). Це свідчить про те, що модель часто видає хибно позитивні передбачення, особливо для деяких цифр.\n",
        "\n",
        "3. **Низька повнота (recall)**:\n",
        "   - Recall для різних класів також є низьким і варіюється від 0.09 (для цифри 5) до 0.59 (для цифри 1). Це означає, що модель часто не виявляє справжні позитивні зразки.\n",
        "\n",
        "4. **Низький F1-Score**:\n",
        "   - F1-Score для всіх класів також низький, коливаючись від 0.09 до 0.60. Це свідчить про те, що і precision, і recall для всіх класів є незадовільними.\n",
        "\n",
        "5. **Проблеми з класифікацією конкретних цифр**:\n",
        "   - Цифра 5 має найнижчі метрики (precision, recall і F1-Score), що свідчить про значні труднощі моделі з розпізнаванням цієї цифри.\n",
        "   - Цифра 1 має найвищі метрики, але навіть вони не є достатньо високими для задовільної класифікації.\n",
        "\n",
        "6. **Макро і зважені середні метрики**:\n",
        "   - Макро середнє значення (macro avg) для всіх метрик є низьким (близько 0.26-0.27), що свідчить про те, що модель не вдається добре розпізнавати жоден з класів.\n",
        "   - Зважене середнє значення (weighted avg) також є низьким і вказує на те, що модель має проблеми з класифікацією навіть при врахуванні різної кількості зразків кожного класу.\n",
        "\n",
        "### Можливі причини низької якості моделі:\n",
        "\n",
        "1. **Недостатня складність моделі**:\n",
        "   - Модель з двома прихованими шарами може бути недостатньо складною для ефективного навчання на датасеті MNIST.\n",
        "\n",
        "2. **Недостатнє навчання**:\n",
        "   - Модель могла недостатньо навчатися, можливо, через недостатню кількість епох чи недостатній розмір batch.\n",
        "\n",
        "3. **Невідповідні гіперпараметри**:\n",
        "   - Низька швидкість навчання або неправильні початкові ваги можуть призводити до поганого результату.\n",
        "\n",
        "4. **Проблеми з нормалізацією даних**:\n",
        "   - Хоча нормалізація пікселів була виконана, можливо, інші аспекти підготовки даних потребують уваги.\n",
        "\n",
        "### Рекомендації:\n",
        "\n",
        "1. **Покращення архітектури моделі**:\n",
        "   - Додати більше шарів або збільшити кількість нейронів в кожному шарі.\n",
        "   - Спробувати інші активаційні функції, такі як ReLU.\n",
        "\n",
        "2. **Покращення процесу навчання**:\n",
        "   - Збільшити кількість епох навчання.\n",
        "   - Використовувати інші оптимізатори, такі як Adam, які можуть швидше знаходити оптимальні ваги.\n",
        "\n",
        "3. **Тонке налаштування гіперпараметрів**:\n",
        "   - Випробувати різні значення швидкості навчання.\n",
        "   - Використовувати регуляризацію (наприклад, Dropout) для запобігання перенавчанню.\n",
        "\n",
        "4. **Покращення підготовки даних**:\n",
        "   - Виконати додаткові перетворення зображень, такі як аугментація даних.\n",
        "\n",
        "Загалом, поточна модель має значні проблеми з класифікацією і потребує суттєвих покращень для досягнення прийнятної точності."
      ],
      "metadata": {
        "id": "iKvEKdBmpeg4"
      }
    }
  ],
  "metadata": {
    "colab": {
      "provenance": []
    },
    "kernelspec": {
      "display_name": "Python 3 (ipykernel)",
      "language": "python",
      "name": "python3"
    },
    "language_info": {
      "codemirror_mode": {
        "name": "ipython",
        "version": 3
      },
      "file_extension": ".py",
      "mimetype": "text/x-python",
      "name": "python",
      "nbconvert_exporter": "python",
      "pygments_lexer": "ipython3",
      "version": "3.9.2"
    }
  },
  "nbformat": 4,
  "nbformat_minor": 0
}